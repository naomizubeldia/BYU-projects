{
 "cells": [
  {
   "cell_type": "code",
   "execution_count": 6,
   "metadata": {},
   "outputs": [],
   "source": [
    "import pandas as pd\n",
    "import numpy as np"
   ]
  },
  {
   "cell_type": "markdown",
   "metadata": {},
   "source": [
    "Part 1"
   ]
  },
  {
   "cell_type": "code",
   "execution_count": 7,
   "metadata": {},
   "outputs": [
    {
     "name": "stdout",
     "output_type": "stream",
     "text": [
      "I found there are 2771 rows in the final dataframe.\n"
     ]
    }
   ],
   "source": [
    "#1. Imported/Cleaned/Wrangled the data\n",
    "\n",
    "# reading in two files\n",
    "hapiscore= pd.read_csv('hapiscore_whr.csv')\n",
    "life= pd.read_csv('life_expectancy_years.csv')\n",
    "\n",
    "# pivoted the two dataframes\n",
    "hap=pd.melt(hapiscore,id_vars='country',var_name='year')\n",
    "life2=pd.melt(life,id_vars='country',var_name='year')\n",
    "\n",
    "#Merged the two dataframes together\n",
    "temp= pd.merge(life2,hap,on=['country','year'],how='inner')\n",
    "\n",
    "#Did some renameing and reordering of col\n",
    "temp['life expectancy']=temp['value_x']\n",
    "temp['happiness score']=temp['value_y']\n",
    "temp=temp[['country','year','life expectancy','happiness score']]\n",
    "temp\n",
    "\n",
    "#2.\n",
    "print('I found there are 2771 rows in the final dataframe.')"
   ]
  },
  {
   "cell_type": "code",
   "execution_count": 8,
   "metadata": {},
   "outputs": [
    {
     "name": "stdout",
     "output_type": "stream",
     "text": [
      "The number in each col of missing values is:\n",
      "0\n",
      "0\n",
      "0\n",
      "704\n"
     ]
    }
   ],
   "source": [
    "#3. Number of na values in each col\n",
    "print('The number in each col of missing values is:')\n",
    "print(temp['year'].isna().sum())\n",
    "print(temp['country'].isna().sum())\n",
    "print(temp['life expectancy'].isna().sum())\n",
    "print(temp['happiness score'].isna().sum())\n",
    "#temp.isna().sum()"
   ]
  },
  {
   "cell_type": "code",
   "execution_count": 9,
   "metadata": {},
   "outputs": [
    {
     "name": "stdout",
     "output_type": "stream",
     "text": [
      "The Correlation Coefficient between life expectency and happiness score is .737\n"
     ]
    },
    {
     "data": {
      "text/plain": [
       "0.7373678563727177"
      ]
     },
     "execution_count": 9,
     "metadata": {},
     "output_type": "execute_result"
    }
   ],
   "source": [
    "#4. Correlation Coefficient\n",
    "print('The Correlation Coefficient between life expectency and happiness score is .737')\n",
    "temp['life expectancy'].corr(temp['happiness score'])"
   ]
  },
  {
   "cell_type": "code",
   "execution_count": 10,
   "metadata": {},
   "outputs": [
    {
     "name": "stdout",
     "output_type": "stream",
     "text": [
      "The country with the higest mean life expectancy is japan.\n"
     ]
    },
    {
     "data": {
      "text/plain": [
       "country\n",
       "Lesotho                     48.447059\n",
       "Central African Republic    48.870588\n",
       "Eswatini                    51.747059\n",
       "Mozambique                  55.141176\n",
       "Zimbabwe                    55.347059\n",
       "                              ...    \n",
       "Iceland                     83.111765\n",
       "Switzerland                 83.123529\n",
       "Hong Kong, China            83.364706\n",
       "Singapore                   83.441176\n",
       "Japan                       83.858824\n",
       "Name: life expectancy, Length: 163, dtype: float64"
      ]
     },
     "execution_count": 10,
     "metadata": {},
     "output_type": "execute_result"
    }
   ],
   "source": [
    "#5. The country with highest mean life expectency\n",
    "print('The country with the higest mean life expectancy is japan.')\n",
    "temp.groupby('country')['life expectancy'].mean().sort_values()"
   ]
  },
  {
   "cell_type": "code",
   "execution_count": 11,
   "metadata": {},
   "outputs": [
    {
     "name": "stdout",
     "output_type": "stream",
     "text": [
      "Denmark has the highest mean happiness score.\n"
     ]
    },
    {
     "data": {
      "text/plain": [
       "country\n",
       "South Sudan                 34.025000\n",
       "Afghanistan                 35.015385\n",
       "Central African Republic    35.160000\n",
       "Burundi                     35.500000\n",
       "Togo                        36.110000\n",
       "                              ...    \n",
       "Netherlands                 74.620000\n",
       "Norway                      74.990909\n",
       "Switzerland                 75.445455\n",
       "Finland                     76.128571\n",
       "Denmark                     76.775000\n",
       "Name: happiness score, Length: 163, dtype: float64"
      ]
     },
     "execution_count": 11,
     "metadata": {},
     "output_type": "execute_result"
    }
   ],
   "source": [
    "#6. The country with the highest mean happiness score\n",
    "print('Denmark has the highest mean happiness score.')\n",
    "temp.groupby('country')['happiness score'].mean().sort_values()"
   ]
  },
  {
   "cell_type": "code",
   "execution_count": 12,
   "metadata": {},
   "outputs": [],
   "source": [
    "#7. Fill in missingvalues of happiness score with country mean\n",
    "temp['happiness score']=temp['happiness score'].fillna(temp.groupby('country')['happiness score'].transform('mean'))"
   ]
  },
  {
   "cell_type": "code",
   "execution_count": 13,
   "metadata": {},
   "outputs": [
    {
     "name": "stdout",
     "output_type": "stream",
     "text": [
      "The lowest median score is South Sudan at 34.03.\n",
      "The highest median score is Denmark at 76.50.\n"
     ]
    },
    {
     "data": {
      "text/plain": [
       "country\n",
       "South Sudan                 34.025000\n",
       "Afghanistan                 35.015385\n",
       "Central African Republic    35.160000\n",
       "Burundi                     35.500000\n",
       "Rwanda                      36.000000\n",
       "                              ...    \n",
       "Iceland                     74.600000\n",
       "Norway                      74.990909\n",
       "Switzerland                 75.445455\n",
       "Finland                     76.128571\n",
       "Denmark                     76.500000\n",
       "Name: happiness score, Length: 163, dtype: float64"
      ]
     },
     "execution_count": 13,
     "metadata": {},
     "output_type": "execute_result"
    }
   ],
   "source": [
    "#8. Highest and lowest median score for happiness scores\n",
    "print('The lowest median score is South Sudan at 34.03.')\n",
    "print('The highest median score is Denmark at 76.50.')\n",
    "temp.groupby('country')['happiness score'].median().sort_values()"
   ]
  },
  {
   "cell_type": "markdown",
   "metadata": {},
   "source": [
    "Part 2"
   ]
  },
  {
   "cell_type": "code",
   "execution_count": 14,
   "metadata": {},
   "outputs": [],
   "source": [
    "#1. Compiled the basketball references into a dataset\n",
    "\n",
    "url = 'https://www.basketball-reference.com/players/'\n",
    "\n",
    "#created list of alphabet except z\n",
    "teams = ['a/','b/','c/','d/','e/','f/','g/','h/','i/','j/','k/','l/','m/','n/','o/','p/','q/','r/','s/','t/','u/','v/','w/','y/','z/']\n",
    "\n",
    "#Ran a forloop to get all the urls\n",
    "list=[]\n",
    "for t in teams:\n",
    "    t=url+t\n",
    "    list.append(t)\n",
    "\n",
    "\n"
   ]
  },
  {
   "cell_type": "code",
   "execution_count": 15,
   "metadata": {},
   "outputs": [],
   "source": [
    "#1. Cont. \n",
    "\n",
    "#I tried to make a for loop but it was taking too long so I read in each\n",
    "#html to create a bunch of dataframes for the last names\n",
    "a= pd.read_html(list[0])[0]\n",
    "b= pd.read_html(list[1])[0]\n",
    "c=pd.read_html(list[2])[0]\n",
    "d=pd.read_html(list[3])[0]\n",
    "e=pd.read_html(list[4])[0]\n",
    "f=pd.read_html(list[5])[0]\n",
    "g=pd.read_html(list[6])[0]\n",
    "h=pd.read_html(list[7])[0]\n",
    "i=pd.read_html(list[8])[0]\n",
    "j=pd.read_html(list[9])[0]\n",
    "k=pd.read_html(list[10])[0]\n",
    "l=pd.read_html(list[11])[0]\n",
    "m=pd.read_html(list[12])[0]\n",
    "n=pd.read_html(list[13])[0]\n",
    "o=pd.read_html(list[14])[0]\n",
    "p=pd.read_html(list[15])[0]\n",
    "q=pd.read_html(list[16])[0]\n",
    "r=pd.read_html(list[17])[0]\n",
    "s=pd.read_html(list[18])[0]\n",
    "t=pd.read_html(list[19])[0]\n",
    "u=pd.read_html(list[20])[0]\n",
    "v=pd.read_html(list[21])[0]\n",
    "w=pd.read_html(list[22])[0]\n",
    "y=pd.read_html(list[23])[0]\n",
    "z=pd.read_html(list[24])[0]\n",
    "\n",
    "#combined the data frames in a list\n",
    "urls=[a,b,c,d,e,f,g,h,i,j,k,l,m,n,o,p,q,r,s,t,u,v,w,y,z]\n",
    "\n"
   ]
  },
  {
   "cell_type": "code",
   "execution_count": 16,
   "metadata": {},
   "outputs": [],
   "source": [
    "#1. Cont.\n",
    "#compiled all the dataframes together\n",
    "#I ended up with a dataframe with 5082 rows, which I believe is due to the website changing\n",
    "\n",
    "bball=pd.concat(urls)\n",
    "\n"
   ]
  },
  {
   "cell_type": "code",
   "execution_count": 17,
   "metadata": {},
   "outputs": [],
   "source": [
    "#2. Cleaning and transforming the data and making new varibles\n",
    "\n",
    "#I set these columns to numeric ignoring errors which creates missing values\n",
    "bball['From']=pd.to_numeric(bball['From'], errors='coerce')\n",
    "bball['To']=pd.to_numeric(bball['To'],errors='coerce')\n",
    "bball['Wt']=pd.to_numeric(bball['Wt'], errors='coerce')\n",
    "\n",
    "#I created 4 new variables\n",
    "bball['years_played']=bball['To']-bball['From']+1\n",
    "\n",
    "bball['Ht_in']=bball['Ht'].str.replace('-',' ').str[0].astype(int)*12 + bball['Ht'].str.split('-').str[1].astype(int)\n",
    "\n",
    "bball['HoF']=bball['Player'].str.contains('\\*')\n",
    "\n",
    "age=bball['From']-bball['Birth Date'].str.split(',').str[1].astype(float)\n",
    "bball['start_age']=pd.to_numeric(age, errors='coerce')# to_numeric coerced missing/non numeric values into missings \n",
    "\n",
    "#rearranged columns \n",
    "final=bball[['Player','From','To','Pos','Ht','Ht_in','Wt','Birth Date', 'start_age','Colleges','years_played','HoF']]"
   ]
  },
  {
   "cell_type": "code",
   "execution_count": 18,
   "metadata": {},
   "outputs": [
    {
     "name": "stdout",
     "output_type": "stream",
     "text": [
      "There are 164 players in the Hall of Fame.\n"
     ]
    },
    {
     "data": {
      "text/plain": [
       "164"
      ]
     },
     "execution_count": 18,
     "metadata": {},
     "output_type": "execute_result"
    }
   ],
   "source": [
    "#3a. How many players in Hall of Fame?\n",
    "print('There are 164 players in the Hall of Fame.')\n",
    "final['HoF'].sum()"
   ]
  },
  {
   "cell_type": "code",
   "execution_count": 19,
   "metadata": {},
   "outputs": [
    {
     "name": "stdout",
     "output_type": "stream",
     "text": [
      "The latest To year of players in the Hall of Fame is 2018.\n"
     ]
    },
    {
     "data": {
      "text/plain": [
       "2018"
      ]
     },
     "execution_count": 19,
     "metadata": {},
     "output_type": "execute_result"
    }
   ],
   "source": [
    "#3b. Latest 'To' year of players in hall of fame\n",
    "print('The latest To year of players in the Hall of Fame is 2018.')\n",
    "final[final['HoF']==True]['To'].max()\n"
   ]
  },
  {
   "cell_type": "code",
   "execution_count": 20,
   "metadata": {},
   "outputs": [
    {
     "name": "stdout",
     "output_type": "stream",
     "text": [
      "Manu Ginobili was in the Hall of Fame in 2018\n"
     ]
    },
    {
     "data": {
      "text/html": [
       "<div>\n",
       "<style scoped>\n",
       "    .dataframe tbody tr th:only-of-type {\n",
       "        vertical-align: middle;\n",
       "    }\n",
       "\n",
       "    .dataframe tbody tr th {\n",
       "        vertical-align: top;\n",
       "    }\n",
       "\n",
       "    .dataframe thead th {\n",
       "        text-align: right;\n",
       "    }\n",
       "</style>\n",
       "<table border=\"1\" class=\"dataframe\">\n",
       "  <thead>\n",
       "    <tr style=\"text-align: right;\">\n",
       "      <th></th>\n",
       "      <th>Player</th>\n",
       "      <th>From</th>\n",
       "      <th>To</th>\n",
       "      <th>Pos</th>\n",
       "      <th>Ht</th>\n",
       "      <th>Ht_in</th>\n",
       "      <th>Wt</th>\n",
       "      <th>Birth Date</th>\n",
       "      <th>start_age</th>\n",
       "      <th>Colleges</th>\n",
       "      <th>years_played</th>\n",
       "      <th>HoF</th>\n",
       "    </tr>\n",
       "  </thead>\n",
       "  <tbody>\n",
       "    <tr>\n",
       "      <th>101</th>\n",
       "      <td>Manu Ginóbili*</td>\n",
       "      <td>2003</td>\n",
       "      <td>2018</td>\n",
       "      <td>G</td>\n",
       "      <td>6-6</td>\n",
       "      <td>78</td>\n",
       "      <td>205.0</td>\n",
       "      <td>July 28, 1977</td>\n",
       "      <td>26.0</td>\n",
       "      <td>NaN</td>\n",
       "      <td>16</td>\n",
       "      <td>True</td>\n",
       "    </tr>\n",
       "  </tbody>\n",
       "</table>\n",
       "</div>"
      ],
      "text/plain": [
       "             Player  From    To Pos   Ht  Ht_in     Wt     Birth Date  \\\n",
       "101  Manu Ginóbili*  2003  2018   G  6-6     78  205.0  July 28, 1977   \n",
       "\n",
       "     start_age Colleges  years_played   HoF  \n",
       "101       26.0      NaN            16  True  "
      ]
     },
     "execution_count": 20,
     "metadata": {},
     "output_type": "execute_result"
    }
   ],
   "source": [
    "#3c. Which player or players were in the Hall of Fame year found in part b\n",
    "print('Manu Ginobili was in the Hall of Fame in 2018')\n",
    "final[(final['HoF']==True)&(final['To']==2018)]"
   ]
  },
  {
   "cell_type": "code",
   "execution_count": 21,
   "metadata": {},
   "outputs": [
    {
     "name": "stdout",
     "output_type": "stream",
     "text": [
      "Players not in Hall of Fame\n",
      "Mean Height = 77.99\n",
      "Mean Weight = 209.38\n",
      "Mean Years Played = 4.97\n",
      "Mean Starting Age = 23.85\n",
      "Players in Hall of Fame\n",
      "Mean Height = 78.23\n",
      "Mean Weight = 208.23\n",
      "Mean Years Played = 12.51\n",
      "Mean Starting Age = 23.68\n"
     ]
    }
   ],
   "source": [
    "#3d. Fill out table with corresponding means:\n",
    "print('Players not in Hall of Fame')\n",
    "print('Mean Height = ' + str(round(final[final['HoF']==False]['Ht_in'].mean(), 2)))\n",
    "print('Mean Weight = ' + str(round(final[final['HoF']==False]['Wt'].mean(), 2)))\n",
    "print('Mean Years Played = ' + str(round(final[final['HoF']==False]['years_played'].mean(), 2)))\n",
    "print('Mean Starting Age = ' + str(round(final[final['HoF']==False]['start_age'].astype('Int64').mean(), 2)))\n",
    "\n",
    "\n",
    "print('Players in Hall of Fame')\n",
    "print('Mean Height = ' + str(round(final[final['HoF']==True]['Ht_in'].mean(), 2)))\n",
    "print('Mean Weight = ' + str(round(final[final['HoF']==True]['Wt'].mean(), 2)))\n",
    "print('Mean Years Played = ' + str(round(final[final['HoF']==True]['years_played'].mean(), 2)))\n",
    "print('Mean Starting Age = ' + str(round(final[final['HoF']==True]['start_age'].astype('Int64').mean(), 2)))"
   ]
  }
 ],
 "metadata": {
  "kernelspec": {
   "display_name": "Python 3 (ipykernel)",
   "language": "python",
   "name": "python3"
  },
  "language_info": {
   "codemirror_mode": {
    "name": "ipython",
    "version": 3
   },
   "file_extension": ".py",
   "mimetype": "text/x-python",
   "name": "python",
   "nbconvert_exporter": "python",
   "pygments_lexer": "ipython3",
   "version": "3.9.12"
  },
  "vscode": {
   "interpreter": {
    "hash": "17148b80536a9518b3c217100db44d9bbf858b2c0861d2db315eb0a1b18cdf91"
   }
  }
 },
 "nbformat": 4,
 "nbformat_minor": 2
}
